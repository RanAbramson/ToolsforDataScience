{
 "cells": [
  {
   "cell_type": "markdown",
   "id": "0574ee2a-9d6a-4a15-aa4c-82b1675c5662",
   "metadata": {},
   "source": [
    "# Data Science Tools and Ecosystem"
   ]
  },
  {
   "cell_type": "markdown",
   "id": "2df0ad2d-f649-4208-9420-1139eb0c3982",
   "metadata": {},
   "source": [
    "In this notebook, Data Science Tools and Ecosystem are summarized."
   ]
  },
  {
   "cell_type": "markdown",
   "id": "e637066a-11bb-401b-9e19-7cd0e3be2b14",
   "metadata": {},
   "source": [
    "Objectives:\n",
    "- List popular languages for Data Science\n",
    "- List some of the libraries used in Date Science\n",
    "- List some of the open source development environments used in Data Science\n",
    "- Demonstrate some arithmetic expressions evaluation in Python"
   ]
  },
  {
   "cell_type": "markdown",
   "id": "9a5930b0-9d02-4a76-8056-0628590c209c",
   "metadata": {},
   "source": [
    "Some of the popular languages that Data Scientists use are:\n",
    "1. Python\n",
    "2. R\n",
    "3. SQL"
   ]
  },
  {
   "cell_type": "markdown",
   "id": "df95ad6a-436d-4d81-9d11-f24a133fafe8",
   "metadata": {},
   "source": [
    "Some of the commonly used libraries used by Data Scientists include:\n",
    "1. Python Pandas\n",
    "2. Python Scikit-learn\n",
    "3. R ggplot\n",
    "4. R caret"
   ]
  },
  {
   "cell_type": "markdown",
   "id": "9d9bf102-e808-47be-82e6-928670cc6a61",
   "metadata": {},
   "source": [
    "Some of the development environment open source tools used in data science are:\n",
    "\n",
    "| Data Science Tools |\n",
    "| ------------------ |\n",
    "| R Studio |\n",
    "| Spyder |\n",
    "| Jupyter Notebooks |"
   ]
  },
  {
   "cell_type": "markdown",
   "id": "8f9202cb-9f0e-45b1-85dd-0141b59cfdc7",
   "metadata": {},
   "source": [
    "### Below are a few examples of evaluating arithmetic expressions in Python"
   ]
  },
  {
   "cell_type": "code",
   "execution_count": 9,
   "id": "77e53316-1f98-42da-9e18-ee02c9fbcf6d",
   "metadata": {},
   "outputs": [
    {
     "data": {
      "text/plain": [
       "17"
      ]
     },
     "execution_count": 9,
     "metadata": {},
     "output_type": "execute_result"
    }
   ],
   "source": [
    "## This a simple arithmetic expression to mutiply then add integers\n",
    "(3*4)+5"
   ]
  },
  {
   "cell_type": "code",
   "execution_count": 13,
   "id": "fcd33214-5e63-4e51-87b9-f20d93a5c09f",
   "metadata": {},
   "outputs": [
    {
     "name": "stdout",
     "output_type": "stream",
     "text": [
      "3.3333333333333335\n"
     ]
    }
   ],
   "source": [
    "##  This will convert 200 minutes to hours by diving by 60\n",
    "minutes = 200\n",
    "hours = minutes/60\n",
    "print(hours)"
   ]
  },
  {
   "cell_type": "markdown",
   "id": "f9d3a9ce-acc1-41fd-8d24-882f0a8c1570",
   "metadata": {},
   "source": [
    "## Author\n",
    "Ran Abramson"
   ]
  },
  {
   "cell_type": "code",
   "execution_count": null,
   "id": "119e57fb-a7cc-4a61-9b2d-d0c726024a46",
   "metadata": {},
   "outputs": [],
   "source": []
  }
 ],
 "metadata": {
  "kernelspec": {
   "display_name": "Python 3 (ipykernel)",
   "language": "python",
   "name": "python3"
  },
  "language_info": {
   "codemirror_mode": {
    "name": "ipython",
    "version": 3
   },
   "file_extension": ".py",
   "mimetype": "text/x-python",
   "name": "python",
   "nbconvert_exporter": "python",
   "pygments_lexer": "ipython3",
   "version": "3.12.4"
  }
 },
 "nbformat": 4,
 "nbformat_minor": 5
}
